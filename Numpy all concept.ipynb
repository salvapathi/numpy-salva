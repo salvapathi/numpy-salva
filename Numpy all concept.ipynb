{
 "cells": [
  {
   "cell_type": "markdown",
   "id": "ee6d835d",
   "metadata": {},
   "source": [
    "## Import NumPy\n",
    "NumPy is usually imported under the np alias."
   ]
  },
  {
   "cell_type": "code",
   "execution_count": 1,
   "id": "fd07f727",
   "metadata": {},
   "outputs": [],
   "source": [
    "import numpy as np"
   ]
  },
  {
   "cell_type": "code",
   "execution_count": 2,
   "id": "c737c818",
   "metadata": {},
   "outputs": [
    {
     "data": {
      "text/plain": [
       "array([1, 2, 3, 4, 5, 6])"
      ]
     },
     "execution_count": 2,
     "metadata": {},
     "output_type": "execute_result"
    }
   ],
   "source": [
    "y=np.array([1,2,3,4,5,6])\n",
    "y"
   ]
  },
  {
   "cell_type": "markdown",
   "id": "abca4b27",
   "metadata": {},
   "source": [
    "we can create list tuple in numpy\n",
    "\n",
    "***properties***\n",
    "\n",
    "1.numpy is a library used for working with arrays\n",
    "\n",
    "2.to create a \"n\"-dimenstional array of object\n",
    "\n",
    "3.which gives tools ,by which we can manipulate ***N-dimenstions array***"
   ]
  },
  {
   "cell_type": "markdown",
   "id": "a2716200",
   "metadata": {},
   "source": [
    "Array:collection of similar type of \"data\"\n",
    "\n",
    "it can held n number of data\n",
    "n=0 it is called scalar\n",
    "n=1 it is called vector \n",
    "\n",
    "default it will be column vector \n",
    "\n",
    "\n"
   ]
  },
  {
   "cell_type": "markdown",
   "id": "7666c8ef",
   "metadata": {},
   "source": [
    "***important array properties***"
   ]
  },
  {
   "cell_type": "markdown",
   "id": "229798e6",
   "metadata": {},
   "source": [
    "definition : gives output in less time when comparied to python .\n",
    "\n",
    "An array is a central data structure of the NumPy library. An array is a grid of values and it contains information about the raw data, how to locate an element, and how to interpret an element. It has a grid of elements that can be indexed in various ways. The elements are all of the same type, referred to as the array dtype.\n",
    "\n",
    "1.homogeneous array :array accpects only same or similar type of data\n",
    "\n",
    "2.They are mutable:we can edit,replace,delect and insert\n",
    "\n",
    "3.they are ordered because of index value "
   ]
  },
  {
   "cell_type": "markdown",
   "id": "5cd9de18",
   "metadata": {},
   "source": [
    "***What’s the difference between a Python list and a NumPy array?***\n",
    "\n",
    "NumPy gives you an enormous range of fast and efficient ways of creating arrays and manipulating numerical data inside them. While a Python list can contain different data types within a single list, all of the elements in a NumPy array should be homogeneous. The mathematical operations that are meant to be performed on arrays would be extremely inefficient if the arrays weren’t homogeneous."
   ]
  },
  {
   "cell_type": "markdown",
   "id": "fbd8e04b",
   "metadata": {},
   "source": [
    "***Create a NumPy ndarray Object***\n",
    "\n",
    "NumPy is used to work with arrays. The array object in NumPy is called ndarray.\n",
    "\n",
    "We can create a NumPy ndarray object by using the array() function."
   ]
  },
  {
   "cell_type": "code",
   "execution_count": 6,
   "id": "d5ab5383",
   "metadata": {},
   "outputs": [
    {
     "data": {
      "text/plain": [
       "numpy.ndarray"
      ]
     },
     "execution_count": 6,
     "metadata": {},
     "output_type": "execute_result"
    }
   ],
   "source": [
    "import numpy as ly\n",
    "m=ly.array([1,2,3])\n",
    "type(m)"
   ]
  },
  {
   "cell_type": "markdown",
   "id": "220e5579",
   "metadata": {},
   "source": [
    "Dimenstions in array \n"
   ]
  },
  {
   "cell_type": "markdown",
   "id": "bc25fc37",
   "metadata": {},
   "source": [
    "### 0-D arrays, or Scalars, are the elements in an array. Each value in an array is a 0-D array"
   ]
  },
  {
   "cell_type": "code",
   "execution_count": 7,
   "id": "8ad4706a",
   "metadata": {},
   "outputs": [
    {
     "data": {
      "text/plain": [
       "array([45])"
      ]
     },
     "execution_count": 7,
     "metadata": {},
     "output_type": "execute_result"
    }
   ],
   "source": [
    "import numpy as pi\n",
    "k=pi.array([45])\n",
    "k"
   ]
  },
  {
   "cell_type": "markdown",
   "id": "f9fb0ecd",
   "metadata": {},
   "source": [
    "### Check Number of Dimensions?\n",
    "NumPy Arrays provides the **ndim** attribute that returns an integer that tells us how many dimensions the array have."
   ]
  },
  {
   "cell_type": "code",
   "execution_count": 14,
   "id": "ba05740b",
   "metadata": {},
   "outputs": [
    {
     "data": {
      "text/plain": [
       "0"
      ]
     },
     "execution_count": 14,
     "metadata": {},
     "output_type": "execute_result"
    }
   ],
   "source": [
    "import numpy as pi\n",
    "k=pi.array(45)\n",
    "k.ndim"
   ]
  },
  {
   "cell_type": "markdown",
   "id": "4c43bc41",
   "metadata": {},
   "source": [
    "1-D Arrays\n",
    "An array that has 0-D arrays as its elements is called uni-dimensional or 1-D array.\n"
   ]
  },
  {
   "cell_type": "code",
   "execution_count": 15,
   "id": "aaf7728b",
   "metadata": {},
   "outputs": [
    {
     "data": {
      "text/plain": [
       "1"
      ]
     },
     "execution_count": 15,
     "metadata": {},
     "output_type": "execute_result"
    }
   ],
   "source": [
    "l=pi.array(([1,2,3]))\n",
    "l.ndim\n"
   ]
  },
  {
   "cell_type": "markdown",
   "id": "59b82bd3",
   "metadata": {},
   "source": [
    "2-D Arrays\n",
    "An array that has 1-D arrays as its elements is called a 2-D array.\n",
    "These are often used to represent matrix or 2nd order tensors."
   ]
  },
  {
   "cell_type": "code",
   "execution_count": 26,
   "id": "977eacde",
   "metadata": {},
   "outputs": [
    {
     "data": {
      "text/plain": [
       "2"
      ]
     },
     "execution_count": 26,
     "metadata": {},
     "output_type": "execute_result"
    }
   ],
   "source": [
    "import numpy as kd\n",
    "hi=kd.array([[1,2,3],[4,5,6]])\n",
    "hi.ndim\n"
   ]
  },
  {
   "cell_type": "markdown",
   "id": "e91b6c12",
   "metadata": {},
   "source": [
    "3-D arrays\n",
    "An array that has 2-D arrays (matrices) as its elements is called 3-D array.\n",
    "\n",
    "These are often used to represent a 3rd order tensor."
   ]
  },
  {
   "cell_type": "code",
   "execution_count": 27,
   "id": "bcfb00b5",
   "metadata": {},
   "outputs": [
    {
     "data": {
      "text/plain": [
       "3"
      ]
     },
     "execution_count": 27,
     "metadata": {},
     "output_type": "execute_result"
    }
   ],
   "source": [
    "import numpy as d3\n",
    "v=d3.array([[[1,23,25,28],[63,78,87,77]]])\n",
    "v.ndim"
   ]
  },
  {
   "cell_type": "markdown",
   "id": "5fc88ec5",
   "metadata": {},
   "source": [
    "### Higher Dimensional Arrays to create an higer dimenstion array..with the help of ndim"
   ]
  },
  {
   "cell_type": "code",
   "execution_count": 30,
   "id": "566dd6df",
   "metadata": {},
   "outputs": [
    {
     "data": {
      "text/plain": [
       "array([[[[[1, 2, 3, 4, 5, 6]]]]])"
      ]
     },
     "execution_count": 30,
     "metadata": {},
     "output_type": "execute_result"
    }
   ],
   "source": [
    "import numpy as ly\n",
    "k=ly.array([1,2,3,4,5,6],ndmin=5)"
   ]
  },
  {
   "cell_type": "markdown",
   "id": "2b49ad77",
   "metadata": {},
   "source": [
    "# zero functions"
   ]
  },
  {
   "cell_type": "code",
   "execution_count": 89,
   "id": "75af68d7",
   "metadata": {},
   "outputs": [
    {
     "data": {
      "text/plain": [
       "array([[0., 0., 0., 0.],\n",
       "       [0., 0., 0., 0.],\n",
       "       [0., 0., 0., 0.]])"
      ]
     },
     "execution_count": 89,
     "metadata": {},
     "output_type": "execute_result"
    }
   ],
   "source": [
    "ly.zeros((3,4))"
   ]
  },
  {
   "cell_type": "code",
   "execution_count": 36,
   "id": "934f7fe0",
   "metadata": {},
   "outputs": [
    {
     "data": {
      "text/plain": [
       "array([1., 1., 1., 1., 1., 1., 1., 1., 1., 1., 1., 1., 1., 1., 1., 1.])"
      ]
     },
     "execution_count": 36,
     "metadata": {},
     "output_type": "execute_result"
    }
   ],
   "source": [
    "ly.ones([16])"
   ]
  },
  {
   "cell_type": "code",
   "execution_count": 44,
   "id": "47ec32ad",
   "metadata": {},
   "outputs": [
    {
     "data": {
      "text/plain": [
       "array([0.00000000e+000, 0.00000000e+000, 0.00000000e+000, 0.00000000e+000,\n",
       "       0.00000000e+000, 8.45840386e-321, 3.11525958e-307, 1.24610723e-306,\n",
       "       0.00000000e+000])"
      ]
     },
     "execution_count": 44,
     "metadata": {},
     "output_type": "execute_result"
    }
   ],
   "source": [
    "ly.empty([9])"
   ]
  },
  {
   "cell_type": "markdown",
   "id": "6d6dcb5c",
   "metadata": {},
   "source": [
    "# range function in numpy"
   ]
  },
  {
   "cell_type": "code",
   "execution_count": 50,
   "id": "3bf6c2ca",
   "metadata": {},
   "outputs": [
    {
     "data": {
      "text/plain": [
       "array([0, 1, 2, 3, 4])"
      ]
     },
     "execution_count": 50,
     "metadata": {},
     "output_type": "execute_result"
    }
   ],
   "source": [
    "import numpy as sprit\n",
    "b=sprit.arange(5)\n",
    "b"
   ]
  },
  {
   "cell_type": "markdown",
   "id": "cbcf7fd9",
   "metadata": {},
   "source": [
    "#### range function for skiping accounding to given skip number"
   ]
  },
  {
   "cell_type": "code",
   "execution_count": 53,
   "id": "45a727d3",
   "metadata": {},
   "outputs": [
    {
     "data": {
      "text/plain": [
       "array([ 1,  2,  3,  4,  5,  6,  7,  8,  9, 10, 11, 12, 13, 14, 15, 16, 17,\n",
       "       18, 19, 20, 21])"
      ]
     },
     "execution_count": 53,
     "metadata": {},
     "output_type": "execute_result"
    }
   ],
   "source": [
    "k=sprit.arange(1,22)\n",
    "k"
   ]
  },
  {
   "cell_type": "code",
   "execution_count": 56,
   "id": "668999c8",
   "metadata": {},
   "outputs": [
    {
     "data": {
      "text/plain": [
       "array([ 1,  3,  5,  7,  9, 11, 13, 15, 17, 19, 21])"
      ]
     },
     "execution_count": 56,
     "metadata": {},
     "output_type": "execute_result"
    }
   ],
   "source": [
    "m=sprit.arange(1,22,2)\n",
    "m"
   ]
  },
  {
   "cell_type": "code",
   "execution_count": null,
   "id": "f112520c",
   "metadata": {},
   "outputs": [],
   "source": []
  },
  {
   "cell_type": "code",
   "execution_count": null,
   "id": "8e0c769c",
   "metadata": {},
   "outputs": [],
   "source": []
  },
  {
   "cell_type": "code",
   "execution_count": null,
   "id": "f6b3bf23",
   "metadata": {},
   "outputs": [],
   "source": []
  },
  {
   "cell_type": "markdown",
   "id": "1083287e",
   "metadata": {},
   "source": [
    " ## NumPy Array Indexing\n",
    " one-dimenstion\n",
    " \n"
   ]
  },
  {
   "cell_type": "code",
   "execution_count": 108,
   "id": "136fba84",
   "metadata": {},
   "outputs": [
    {
     "name": "stdout",
     "output_type": "stream",
     "text": [
      "[  2  15  28  41  54  67  80  93 106 119 132 145 158]\n",
      "67\n"
     ]
    }
   ],
   "source": [
    "import numpy as jup\n",
    "hope=jup.arange(2,165,13)\n",
    "print(hope)\n",
    "print(hope[5])"
   ]
  },
  {
   "cell_type": "code",
   "execution_count": 109,
   "id": "dedf0cb5",
   "metadata": {},
   "outputs": [
    {
     "name": "stdout",
     "output_type": "stream",
     "text": [
      "5\n"
     ]
    }
   ],
   "source": [
    "min=jup.array([1,2,3,4,5,6,7,8,9,10])\n",
    "print(min[4])\n"
   ]
  },
  {
   "cell_type": "code",
   "execution_count": 110,
   "id": "a7491611",
   "metadata": {},
   "outputs": [
    {
     "name": "stdout",
     "output_type": "stream",
     "text": [
      "12\n"
     ]
    }
   ],
   "source": [
    "print(min[4]+min[6])"
   ]
  },
  {
   "cell_type": "markdown",
   "id": "a64712fc",
   "metadata": {},
   "source": [
    "\n",
    "### To access elements from 2-D arrays\n",
    "we can use comma separated integers representing the dimension and the index of the element.\n"
   ]
  },
  {
   "cell_type": "code",
   "execution_count": 111,
   "id": "604673c1",
   "metadata": {},
   "outputs": [
    {
     "name": "stdout",
     "output_type": "stream",
     "text": [
      "[[1 2 3 4]\n",
      " [4 5 6 7]]\n",
      "2\n"
     ]
    }
   ],
   "source": [
    "import numpy as ki\n",
    "h=ki.array([[1,2,3,4],[4,5,6,7]])\n",
    "print(h)\n",
    "print(h.ndim)"
   ]
  },
  {
   "cell_type": "code",
   "execution_count": 112,
   "id": "9cae9e29",
   "metadata": {},
   "outputs": [
    {
     "name": "stdout",
     "output_type": "stream",
     "text": [
      "accesing the third element in 2 row ==: 6\n"
     ]
    }
   ],
   "source": [
    "print(\"accesing the third element in 2 row ==:\",h[1,2])"
   ]
  },
  {
   "cell_type": "markdown",
   "id": "1fc63d83",
   "metadata": {},
   "source": [
    "### Access 3-D Arrays\n",
    "To access elements from 3-D arrays we can use comma separated integers representing the dimensions and the index of the element"
   ]
  },
  {
   "cell_type": "code",
   "execution_count": 120,
   "id": "a6d88fe3",
   "metadata": {},
   "outputs": [
    {
     "name": "stdout",
     "output_type": "stream",
     "text": [
      "3\n"
     ]
    },
    {
     "data": {
      "text/plain": [
       "array([[[ 1,  2,  3,  4,  5],\n",
       "        [ 5,  6,  7,  8,  9],\n",
       "        [10, 11, 12, 13, 14]]])"
      ]
     },
     "execution_count": 120,
     "metadata": {},
     "output_type": "execute_result"
    }
   ],
   "source": [
    "z=ki.array([[[1,2,3,4,5],[5,6,7,8,9],[10,11,12,13,14]]])\n",
    "print(z.ndim)\n",
    "z[0,2,2]\n",
    "z"
   ]
  },
  {
   "cell_type": "code",
   "execution_count": 121,
   "id": "216c5312",
   "metadata": {},
   "outputs": [
    {
     "data": {
      "text/plain": [
       "11"
      ]
     },
     "execution_count": 121,
     "metadata": {},
     "output_type": "execute_result"
    }
   ],
   "source": [
    "import numpy as np\n",
    "\n",
    "arr = np.array([[[1, 2, 3], [4, 5, 6]], [[7, 8, 9], [10, 11, 12]]])\n",
    "arr[1,1,1]"
   ]
  },
  {
   "cell_type": "code",
   "execution_count": null,
   "id": "0a2ceebe",
   "metadata": {},
   "outputs": [],
   "source": []
  },
  {
   "cell_type": "markdown",
   "id": "fdfab244",
   "metadata": {},
   "source": [
    "# LINE SPACE \n",
    "it is used to print the number of elements required as per user if we gave arange(1,20) we can print 5 or 6 elements"
   ]
  },
  {
   "cell_type": "code",
   "execution_count": 69,
   "id": "76cf7ca6",
   "metadata": {},
   "outputs": [
    {
     "name": "stdout",
     "output_type": "stream",
     "text": [
      "[ 1.  10.5 20. ]\n"
     ]
    }
   ],
   "source": [
    "import numpy as ut\n",
    "line=ut.linspace(1,20,num=3)\n",
    "print(line)\n"
   ]
  },
  {
   "cell_type": "markdown",
   "id": "f30c386e",
   "metadata": {},
   "source": [
    "# shape of array"
   ]
  },
  {
   "cell_type": "code",
   "execution_count": 79,
   "id": "b6188e7d",
   "metadata": {},
   "outputs": [
    {
     "data": {
      "text/plain": [
       "(2, 5)"
      ]
     },
     "execution_count": 79,
     "metadata": {},
     "output_type": "execute_result"
    }
   ],
   "source": [
    "import numpy as op\n",
    "f=op.array([[1,2,3,4,5],[6,7,8,9,10]])\n",
    "f.shape"
   ]
  },
  {
   "cell_type": "code",
   "execution_count": 80,
   "id": "42e7060a",
   "metadata": {},
   "outputs": [
    {
     "data": {
      "text/plain": [
       "(4,)"
      ]
     },
     "execution_count": 80,
     "metadata": {},
     "output_type": "execute_result"
    }
   ],
   "source": [
    "g=op.array([1,2,3,6])\n",
    "g.shape\n",
    "#in single dimenstions the shape gives the number of elements in the n-dimenstion array"
   ]
  },
  {
   "cell_type": "code",
   "execution_count": 86,
   "id": "674b4638",
   "metadata": {},
   "outputs": [
    {
     "name": "stdout",
     "output_type": "stream",
     "text": [
      "5\n",
      "(1, 1, 1, 1, 4)\n"
     ]
    }
   ],
   "source": [
    "u=op.array([1,2,3,4],ndmin=5)\n",
    "print(u.ndim)\n",
    "print(u.shape)"
   ]
  },
  {
   "cell_type": "code",
   "execution_count": 87,
   "id": "43c1cfc7",
   "metadata": {},
   "outputs": [
    {
     "data": {
      "text/plain": [
       "array([[[[[1, 2, 3, 4]]]]])"
      ]
     },
     "execution_count": 87,
     "metadata": {},
     "output_type": "execute_result"
    }
   ],
   "source": [
    "u"
   ]
  },
  {
   "cell_type": "markdown",
   "id": "d4d4acfb",
   "metadata": {},
   "source": [
    "# full method \n",
    "full it fills all the element with only given value"
   ]
  },
  {
   "cell_type": "code",
   "execution_count": 122,
   "id": "92db8146",
   "metadata": {},
   "outputs": [],
   "source": [
    "import numpy as ful"
   ]
  },
  {
   "cell_type": "code",
   "execution_count": 123,
   "id": "7733eee4",
   "metadata": {},
   "outputs": [
    {
     "data": {
      "text/plain": [
       "array([[69, 69, 69, 69, 69, 69],\n",
       "       [69, 69, 69, 69, 69, 69],\n",
       "       [69, 69, 69, 69, 69, 69],\n",
       "       [69, 69, 69, 69, 69, 69]])"
      ]
     },
     "execution_count": 123,
     "metadata": {},
     "output_type": "execute_result"
    }
   ],
   "source": [
    "r=ful.full((4,6),69)\n",
    "r"
   ]
  },
  {
   "cell_type": "markdown",
   "id": "1eda176c",
   "metadata": {},
   "source": [
    "# eye method\n",
    "which will fill the diagnol in the matrix"
   ]
  },
  {
   "cell_type": "code",
   "execution_count": 97,
   "id": "6f00ddb2",
   "metadata": {},
   "outputs": [
    {
     "data": {
      "text/plain": [
       "array([[1., 0., 0., 0., 0., 0., 0., 0.],\n",
       "       [0., 1., 0., 0., 0., 0., 0., 0.],\n",
       "       [0., 0., 1., 0., 0., 0., 0., 0.],\n",
       "       [0., 0., 0., 1., 0., 0., 0., 0.],\n",
       "       [0., 0., 0., 0., 1., 0., 0., 0.],\n",
       "       [0., 0., 0., 0., 0., 1., 0., 0.],\n",
       "       [0., 0., 0., 0., 0., 0., 1., 0.],\n",
       "       [0., 0., 0., 0., 0., 0., 0., 1.]])"
      ]
     },
     "execution_count": 97,
     "metadata": {},
     "output_type": "execute_result"
    }
   ],
   "source": [
    "p=ful.eye(8)\n",
    "p"
   ]
  },
  {
   "cell_type": "markdown",
   "id": "951170aa",
   "metadata": {},
   "source": [
    "### Slicing arrays:\n",
    "\n",
    "***licing in python means taking elements from one given index to another given index.***\n",
    "\n",
    "We pass slice instead of index like this: [start:end].\n",
    "\n",
    "We can also define the step, like this: [start:end:step].\n",
    "\n",
    "If we don't pass start its considered 0\n",
    "\n",
    "If we don't pass end its considered length of array in that dimension\n",
    "\n",
    "If we don't pass step its considered 1"
   ]
  },
  {
   "cell_type": "code",
   "execution_count": 124,
   "id": "62cbbb96",
   "metadata": {},
   "outputs": [
    {
     "data": {
      "text/plain": [
       "array([1, 2, 3])"
      ]
     },
     "execution_count": 124,
     "metadata": {},
     "output_type": "execute_result"
    }
   ],
   "source": [
    "import numpy as ike\n",
    "hi=ike.array([1,2,3,4,5,6,])\n",
    "hi[0:3]"
   ]
  },
  {
   "cell_type": "markdown",
   "id": "1efa0197",
   "metadata": {},
   "source": [
    "### Negative Slicing\n",
    "Use the minus operator to refer to an index from the end:"
   ]
  },
  {
   "cell_type": "code",
   "execution_count": 125,
   "id": "6f5f4372",
   "metadata": {},
   "outputs": [
    {
     "data": {
      "text/plain": [
       "array([12, 13])"
      ]
     },
     "execution_count": 125,
     "metadata": {},
     "output_type": "execute_result"
    }
   ],
   "source": [
    "ko=ike.array([1,5,6,7,8,9,10,11,12,13,14])\n",
    "ko[-3:-1]"
   ]
  },
  {
   "cell_type": "markdown",
   "id": "5adc2eac",
   "metadata": {},
   "source": [
    "# step in slicing "
   ]
  },
  {
   "cell_type": "code",
   "execution_count": 2,
   "id": "394f2210",
   "metadata": {},
   "outputs": [
    {
     "data": {
      "text/plain": [
       "array([2, 4, 7, 5])"
      ]
     },
     "execution_count": 2,
     "metadata": {},
     "output_type": "execute_result"
    }
   ],
   "source": [
    "import numpy as li\n",
    "y=li.array([1,2,3,4,5,7,9,5,10])\n",
    "y[1: :2]"
   ]
  },
  {
   "cell_type": "markdown",
   "id": "bbfee1d4",
   "metadata": {},
   "source": [
    "### Slicing 2-D Arrays\n",
    "Example\n",
    "From the second element, slice elements from index 1 to index 4 (not included):"
   ]
  },
  {
   "cell_type": "code",
   "execution_count": 17,
   "id": "9814d01d",
   "metadata": {},
   "outputs": [
    {
     "name": "stdout",
     "output_type": "stream",
     "text": [
      "2\n",
      "(2, 4)\n",
      "[[1 2 3 4]\n",
      " [5 6 7 8]]\n"
     ]
    }
   ],
   "source": [
    "sms=li.array([[1,2,3,4],[5,6,7,8]])\n",
    "print(sms.ndim)\n",
    "sms[1,1:2]\n",
    "print(sms.shape)\n",
    "print(sms)"
   ]
  },
  {
   "cell_type": "code",
   "execution_count": 18,
   "id": "e02b0263",
   "metadata": {},
   "outputs": [
    {
     "data": {
      "text/plain": [
       "array([5, 6, 7])"
      ]
     },
     "execution_count": 18,
     "metadata": {},
     "output_type": "execute_result"
    }
   ],
   "source": [
    "sms[1,0:3]"
   ]
  },
  {
   "cell_type": "code",
   "execution_count": 19,
   "id": "a7c9b096",
   "metadata": {},
   "outputs": [
    {
     "name": "stdout",
     "output_type": "stream",
     "text": [
      "[3]\n"
     ]
    }
   ],
   "source": [
    "# to get 3 number from array\n",
    "print(sms[0,2:3])"
   ]
  },
  {
   "cell_type": "code",
   "execution_count": 27,
   "id": "ec68c458",
   "metadata": {},
   "outputs": [
    {
     "name": "stdout",
     "output_type": "stream",
     "text": [
      "[3 7]\n"
     ]
    }
   ],
   "source": [
    "#if we want to return both the elements in two different ...\n",
    "print(sms[0:2,2])"
   ]
  },
  {
   "cell_type": "code",
   "execution_count": null,
   "id": "8cdd9627",
   "metadata": {},
   "outputs": [],
   "source": []
  },
  {
   "cell_type": "code",
   "execution_count": null,
   "id": "1f0a65f2",
   "metadata": {},
   "outputs": [],
   "source": []
  },
  {
   "cell_type": "code",
   "execution_count": 6,
   "id": "8a1439d2",
   "metadata": {},
   "outputs": [
    {
     "data": {
      "text/plain": [
       "array([10, 20, 30, 40])"
      ]
     },
     "execution_count": 6,
     "metadata": {},
     "output_type": "execute_result"
    }
   ],
   "source": [
    "#step slicing in array\n",
    "import numpy as dk\n",
    "arr=dk.array([10, 15, 20, 25, 30, 35, 40])\n",
    "arr[0: :2]\n",
    "\n",
    "\n"
   ]
  },
  {
   "cell_type": "markdown",
   "id": "f5805063",
   "metadata": {},
   "source": [
    "Data Types in Python\n",
    "\n",
    "By default Python have these data types:\n",
    "\n",
    "strings - used to represent text data, the text is given under quote marks. e.g. \"ABCD\"\n",
    "\n",
    "integer - used to represent integer numbers. e.g. -1, -2, -3\n",
    "\n",
    "float - used to represent real numbers. e.g. 1.2, 42.42\n",
    "\n",
    "boolean - used to represent True or False.\n",
    "\n",
    "complex - used to represent complex numbers. e.g. 1.0 + 2.0j, 1.5 + 2.5j\n"
   ]
  },
  {
   "cell_type": "markdown",
   "id": "ce89fff7",
   "metadata": {},
   "source": [
    " ### Data Types in NumPy\n",
    "NumPy has some extra data types, and refer to data types with one character, like i for integers, u for unsigned integers etc.\n",
    "\n",
    "Below is a list of all data types in NumPy and the characters used to represent them.\n",
    "\n",
    "i - integer\n",
    "\n",
    "b - boolean\n",
    "\n",
    "u - unsigned integer\n",
    "\n",
    "f - float\n",
    "\n",
    "c - complex float\n",
    "\n",
    "m - timedelta\n",
    "\n",
    "M - datetime\n",
    "\n",
    "O - object\n",
    "\n",
    "S - string\n",
    "\n",
    "U - unicode string\n",
    "\n",
    "V - fixed chunk of memory for other type ( void )\n"
   ]
  },
  {
   "cell_type": "markdown",
   "id": "bba3bb15",
   "metadata": {},
   "source": [
    " ###  Checking the Data Type of an Array\n",
    "The NumPy array object has a property called dtype that returns the data type of the array:"
   ]
  },
  {
   "cell_type": "code",
   "execution_count": 7,
   "id": "f041e86e",
   "metadata": {},
   "outputs": [
    {
     "data": {
      "text/plain": [
       "dtype('int32')"
      ]
     },
     "execution_count": 7,
     "metadata": {},
     "output_type": "execute_result"
    }
   ],
   "source": [
    "import numpy as kl\n",
    "c=kl.array([1,2,5,6,7,8])\n",
    "c.dtype"
   ]
  },
  {
   "cell_type": "code",
   "execution_count": 29,
   "id": "a7a8f986",
   "metadata": {},
   "outputs": [
    {
     "name": "stdout",
     "output_type": "stream",
     "text": [
      "[[[1. 2. 3. 4. 5.]]]\n"
     ]
    }
   ],
   "source": [
    "m=kl.array([1,2,3,4,5],ndmin=3,dtype=float)\n",
    "print(m)\n"
   ]
  },
  {
   "cell_type": "markdown",
   "id": "dd3b4ff2",
   "metadata": {},
   "source": [
    "### Converting Data Type on Existing Arrays"
   ]
  },
  {
   "cell_type": "code",
   "execution_count": 8,
   "id": "abc224b9",
   "metadata": {},
   "outputs": [
    {
     "data": {
      "text/plain": [
       "array([1., 2., 3., 4., 5., 6.], dtype=float32)"
      ]
     },
     "execution_count": 8,
     "metadata": {},
     "output_type": "execute_result"
    }
   ],
   "source": [
    "k=kl.array([1,2,3,4,5,6],dtype=\"f\")\n",
    "k"
   ]
  },
  {
   "cell_type": "code",
   "execution_count": 9,
   "id": "1d186f4f",
   "metadata": {},
   "outputs": [
    {
     "name": "stdout",
     "output_type": "stream",
     "text": [
      "[1. 2. 3. 4. 5. 6.]\n"
     ]
    }
   ],
   "source": [
    "print(k)"
   ]
  },
  {
   "cell_type": "markdown",
   "id": "577ca42c",
   "metadata": {},
   "source": [
    "Get the ***Shape*** of an Array"
   ]
  },
  {
   "cell_type": "code",
   "execution_count": 10,
   "id": "b7307dd8",
   "metadata": {},
   "outputs": [
    {
     "name": "stdout",
     "output_type": "stream",
     "text": [
      "2\n",
      "[[ 1  2  3  4  5]\n",
      " [ 6  7  8  9 10]]\n",
      "9\n",
      "[ 6  7  8  9 10]\n"
     ]
    }
   ],
   "source": [
    "import numpy as we\n",
    "s=we.array([[1,2,3,4,5],[6,7,8,9,10]])\n",
    "print(s.ndim)\n",
    "s.shape\n",
    "print(s)\n",
    "print(s[1,3])\n",
    "#slicing\n",
    "print(s[1,0:5])"
   ]
  },
  {
   "cell_type": "markdown",
   "id": "a5be0316",
   "metadata": {},
   "source": [
    "2=rows and 5=columns "
   ]
  },
  {
   "cell_type": "code",
   "execution_count": 11,
   "id": "83f49adf",
   "metadata": {},
   "outputs": [
    {
     "name": "stdout",
     "output_type": "stream",
     "text": [
      "[[[1 2 3 4 5]]]\n",
      "(1, 1, 5)\n"
     ]
    }
   ],
   "source": [
    "h=we.array([1,2,3,4,5],ndmin=3)\n",
    "print(h)\n",
    "print(h.shape)"
   ]
  },
  {
   "cell_type": "markdown",
   "id": "01de661d",
   "metadata": {},
   "source": [
    "# Reshape"
   ]
  },
  {
   "cell_type": "code",
   "execution_count": 55,
   "id": "e3d1a439",
   "metadata": {},
   "outputs": [
    {
     "name": "stdout",
     "output_type": "stream",
     "text": [
      "[[ 1  2  3  4]\n",
      " [ 5  6  7  8]\n",
      " [23 24 25 26]\n",
      " [27 28 29 30]]\n"
     ]
    },
    {
     "data": {
      "text/plain": [
       "25"
      ]
     },
     "execution_count": 55,
     "metadata": {},
     "output_type": "execute_result"
    }
   ],
   "source": [
    "import numpy as shel\n",
    "d=shel.array([[1,2,3,4,5,6,7,8],[23,24,25,26,27,28,29,30]])\n",
    "k=d.reshape(4,4)\n",
    "print(k)\n",
    "k[2,2]\n",
    "\n"
   ]
  },
  {
   "cell_type": "code",
   "execution_count": 39,
   "id": "f632ed08",
   "metadata": {},
   "outputs": [
    {
     "data": {
      "text/plain": [
       "array([[[1, 2],\n",
       "        [3, 4]],\n",
       "\n",
       "       [[5, 6],\n",
       "        [7, 8]]])"
      ]
     },
     "execution_count": 39,
     "metadata": {},
     "output_type": "execute_result"
    }
   ],
   "source": [
    "import numpy as hi\n",
    "g=hi.array([1,2,3,4,5,6,7,8])\n",
    "g.reshape(2,2,2)"
   ]
  },
  {
   "cell_type": "code",
   "execution_count": 64,
   "id": "1055ad7d",
   "metadata": {},
   "outputs": [
    {
     "name": "stdout",
     "output_type": "stream",
     "text": [
      "(20,)\n",
      "1\n",
      "15\n"
     ]
    }
   ],
   "source": [
    "#coding on reshape \n",
    "import numpy as alpha\n",
    "m=alpha.arange(1,21)\n",
    "k=m.reshape(5,4)\n",
    "print(m.shape)\n",
    "print(m.ndim)\n",
    "print(k[3,2])\n",
    "\n"
   ]
  },
  {
   "cell_type": "markdown",
   "id": "1b548f23",
   "metadata": {},
   "source": [
    "we can to +,-,,/,// it will accces element wise and while adding and sub the shape should be matched between two arrays*\n",
    "\n",
    "we can also use comparison operator =,<,>,!"
   ]
  },
  {
   "cell_type": "code",
   "execution_count": 66,
   "id": "bf485e7a",
   "metadata": {},
   "outputs": [
    {
     "name": "stdout",
     "output_type": "stream",
     "text": [
      "[[ 1  2  3  4]\n",
      " [ 5  6  7  8]\n",
      " [ 9 10 11 12]\n",
      " [13 14 15 16]\n",
      " [17 18 19 20]]\n",
      "[[ 3  4  5  6]\n",
      " [ 7  8  9 10]\n",
      " [11 12 13 14]\n",
      " [15 16 17 18]\n",
      " [19 20 21 22]]\n"
     ]
    },
    {
     "data": {
      "text/plain": [
       "array([ 2,  4,  6,  8, 10, 12, 14, 16, 18, 20])"
      ]
     },
     "execution_count": 66,
     "metadata": {},
     "output_type": "execute_result"
    }
   ],
   "source": [
    "print(k)\n",
    "print(k+2)\n",
    "k*2\n",
    "k[(k%2==0)]\n",
    "\n",
    "\n"
   ]
  },
  {
   "cell_type": "code",
   "execution_count": 68,
   "id": "608e673c",
   "metadata": {},
   "outputs": [
    {
     "data": {
      "text/plain": [
       "array([10, 20])"
      ]
     },
     "execution_count": 68,
     "metadata": {},
     "output_type": "execute_result"
    }
   ],
   "source": [
    "k[(k%2==0) & (k%5==0)]"
   ]
  },
  {
   "cell_type": "markdown",
   "id": "aa71064e",
   "metadata": {},
   "source": []
  },
  {
   "cell_type": "code",
   "execution_count": null,
   "id": "f5aa831a",
   "metadata": {},
   "outputs": [],
   "source": []
  }
 ],
 "metadata": {
  "kernelspec": {
   "display_name": "Python 3 (ipykernel)",
   "language": "python",
   "name": "python3"
  },
  "language_info": {
   "codemirror_mode": {
    "name": "ipython",
    "version": 3
   },
   "file_extension": ".py",
   "mimetype": "text/x-python",
   "name": "python",
   "nbconvert_exporter": "python",
   "pygments_lexer": "ipython3",
   "version": "3.9.13"
  }
 },
 "nbformat": 4,
 "nbformat_minor": 5
}
